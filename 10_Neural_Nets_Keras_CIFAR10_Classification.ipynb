{
  "nbformat": 4,
  "nbformat_minor": 0,
  "metadata": {
    "colab": {
      "provenance": [],
      "gpuType": "T4",
      "authorship_tag": "ABX9TyP7+xIeEho+8mjj/ZBeNi4v",
      "include_colab_link": true
    },
    "kernelspec": {
      "name": "python3",
      "display_name": "Python 3"
    },
    "language_info": {
      "name": "python"
    },
    "accelerator": "GPU"
  },
  "cells": [
    {
      "cell_type": "markdown",
      "metadata": {
        "id": "view-in-github",
        "colab_type": "text"
      },
      "source": [
        "<a href=\"https://colab.research.google.com/github/wojtekkrr/Keras_CIFAR10_Classification/blob/main/10_Neural_Nets_Keras_CIFAR10_Classification.ipynb\" target=\"_parent\"><img src=\"https://colab.research.google.com/assets/colab-badge.svg\" alt=\"Open In Colab\"/></a>"
      ]
    },
    {
      "cell_type": "code",
      "execution_count": null,
      "metadata": {
        "id": "0Mr3kPR7xE39"
      },
      "outputs": [],
      "source": [
        "from numpy.random import seed\n",
        "seed(888)\n",
        "import tensorflow\n",
        "tensorflow.random.set_seed(404)"
      ]
    },
    {
      "cell_type": "code",
      "source": [
        "import os\n",
        "import numpy as np\n",
        "import tensorflow as tf\n",
        "import itertools\n",
        "\n",
        "import keras\n",
        "from keras.datasets import cifar10\n",
        "from keras.models import Sequential\n",
        "from keras.layers import Dense, Activation, Dropout\n",
        "\n",
        "from IPython.display import display\n",
        "from keras.preprocessing.image import array_to_img\n",
        "from keras.callbacks import TensorBoard\n",
        "\n",
        "from sklearn.metrics import confusion_matrix\n",
        "\n",
        "import matplotlib.pyplot as plt\n",
        "\n",
        "%matplotlib inline"
      ],
      "metadata": {
        "id": "GuJPBXUBxJk7"
      },
      "execution_count": null,
      "outputs": []
    },
    {
      "cell_type": "markdown",
      "source": [
        "# Constants"
      ],
      "metadata": {
        "id": "0aaFQNOoxQ2W"
      }
    },
    {
      "cell_type": "code",
      "source": [
        "LABEL_NAMES = [\"Plain\", 'Car', 'Bird', 'Cat', 'Deer', 'Dog', 'Frog', 'Horse', 'Ship', 'Truck']\n",
        "\n",
        "IMAGE_WIDTH = 32\n",
        "IMAGE_HEIGHT = 32\n",
        "IMAGE_PIXELS = IMAGE_WIDTH * IMAGE_HEIGHT\n",
        "COLOR_CHANNELS = 3\n",
        "TOTAL_INPUTS = IMAGE_PIXELS * COLOR_CHANNELS\n",
        "\n",
        "VALIDATION_SIZE = 10000\n",
        "SMALL_TRAIN_SIZE = 1000\n",
        "\n",
        "NR_CLASSES = 10"
      ],
      "metadata": {
        "id": "HQsd_Xo2xOeJ"
      },
      "execution_count": null,
      "outputs": []
    },
    {
      "cell_type": "markdown",
      "source": [
        "# Get the Data"
      ],
      "metadata": {
        "id": "u9bGzrUaxTmt"
      }
    },
    {
      "cell_type": "code",
      "source": [
        "(x_train_all, y_train_all), (x_test, y_test) = cifar10.load_data()"
      ],
      "metadata": {
        "colab": {
          "base_uri": "https://localhost:8080/"
        },
        "id": "QgrufUuBxR-5",
        "outputId": "140b22b1-5afe-48f9-a223-0bca93fec234"
      },
      "execution_count": null,
      "outputs": [
        {
          "output_type": "stream",
          "name": "stdout",
          "text": [
            "Downloading data from https://www.cs.toronto.edu/~kriz/cifar-10-python.tar.gz\n",
            "170498071/170498071 [==============================] - 4s 0us/step\n"
          ]
        }
      ]
    },
    {
      "cell_type": "markdown",
      "source": [
        "# Explore the Data"
      ],
      "metadata": {
        "id": "k4BvwhQ4xXT3"
      }
    },
    {
      "cell_type": "code",
      "source": [
        "pic = array_to_img(x_train_all[99])"
      ],
      "metadata": {
        "id": "He1w10gFxVTh"
      },
      "execution_count": null,
      "outputs": []
    },
    {
      "cell_type": "code",
      "source": [
        "display(pic)"
      ],
      "metadata": {
        "colab": {
          "base_uri": "https://localhost:8080/",
          "height": 49
        },
        "id": "MCbOqCYyxZYZ",
        "outputId": "e366996a-3b36-4409-b5d9-7ffaed4480de"
      },
      "execution_count": null,
      "outputs": [
        {
          "output_type": "display_data",
          "data": {
            "text/plain": [
              "<PIL.Image.Image image mode=RGB size=32x32>"
            ],
            "image/png": "[encoded data removed]"
          },
          "metadata": {}
        }
      ]
    },
    {
      "cell_type": "code",
      "source": [
        "y_train_all.shape"
      ],
      "metadata": {
        "colab": {
          "base_uri": "https://localhost:8080/"
        },
        "id": "IbUTh_vAxaCJ",
        "outputId": "d3c4ee0c-f1ef-450e-dce4-4faf0169a78e"
      },
      "execution_count": null,
      "outputs": [
        {
          "output_type": "execute_result",
          "data": {
            "text/plain": [
              "(50000, 1)"
            ]
          },
          "metadata": {},
          "execution_count": 7
        }
      ]
    },
    {
      "cell_type": "code",
      "source": [
        "y_train_all[99][0]"
      ],
      "metadata": {
        "colab": {
          "base_uri": "https://localhost:8080/"
        },
        "id": "iETaAHNDxbFp",
        "outputId": "b08fdccd-4a33-4a7a-aa72-75203cc76869"
      },
      "execution_count": null,
      "outputs": [
        {
          "output_type": "execute_result",
          "data": {
            "text/plain": [
              "1"
            ]
          },
          "metadata": {},
          "execution_count": 8
        }
      ]
    },
    {
      "cell_type": "code",
      "source": [
        "LABEL_NAMES[7]"
      ],
      "metadata": {
        "colab": {
          "base_uri": "https://localhost:8080/",
          "height": 35
        },
        "id": "XdIQ1KdZxcaB",
        "outputId": "dec26c97-33c2-4c89-8220-2e5504ef3a96"
      },
      "execution_count": null,
      "outputs": [
        {
          "output_type": "execute_result",
          "data": {
            "text/plain": [
              "'Horse'"
            ],
            "application/vnd.google.colaboratory.intrinsic+json": {
              "type": "string"
            }
          },
          "metadata": {},
          "execution_count": 9
        }
      ]
    },
    {
      "cell_type": "code",
      "source": [
        "plt.figure(figsize=(15, 5))\n",
        "\n",
        "for i in range(10):\n",
        "    plt.subplot(1, 10, i + 1)\n",
        "\n",
        "    plt.imshow(x_train_all[i])\n",
        "    plt.xticks([])\n",
        "    plt.yticks([])\n",
        "    plt.xlabel(LABEL_NAMES[y_train_all[i][0]], fontsize=10)\n",
        "\n",
        "plt.show()"
      ],
      "metadata": {
        "colab": {
          "base_uri": "https://localhost:8080/",
          "height": 155
        },
        "id": "hkvATKOExdPJ",
        "outputId": "78aa38a3-4a66-44ea-97c0-7a73d864d8e3"
      },
      "execution_count": null,
      "outputs": [
        {
          "output_type": "display_data",
          "data": {
            "text/plain": [
              "<Figure size 1500x500 with 10 Axes>"
            ],
            "image/png": "[encoded data removed]"
          },
          "metadata": {}
        }
      ]
    },
    {
      "cell_type": "code",
      "source": [
        "x_train_all.shape"
      ],
      "metadata": {
        "colab": {
          "base_uri": "https://localhost:8080/"
        },
        "id": "2ddcXds5xeRp",
        "outputId": "0cd00d9b-e6df-4f5f-e130-d3fdf1aaf4d1"
      },
      "execution_count": null,
      "outputs": [
        {
          "output_type": "execute_result",
          "data": {
            "text/plain": [
              "(50000, 32, 32, 3)"
            ]
          },
          "metadata": {},
          "execution_count": 11
        }
      ]
    },
    {
      "cell_type": "code",
      "source": [
        "x_test.shape"
      ],
      "metadata": {
        "colab": {
          "base_uri": "https://localhost:8080/"
        },
        "id": "eE_bqkOZxfXj",
        "outputId": "8cdbb43c-37d9-4aea-df0e-e30118a7fc9d"
      },
      "execution_count": null,
      "outputs": [
        {
          "output_type": "execute_result",
          "data": {
            "text/plain": [
              "(10000, 32, 32, 3)"
            ]
          },
          "metadata": {},
          "execution_count": 12
        }
      ]
    },
    {
      "cell_type": "markdown",
      "source": [
        "# Preprocess Data"
      ],
      "metadata": {
        "id": "tIV-8fU8xg6M"
      }
    },
    {
      "cell_type": "code",
      "source": [
        "# Kompresja do części całości, aby ułatwić gradient descent\n",
        "\n",
        "x_train_all, x_test = x_train_all / 255.0, x_test / 255.0"
      ],
      "metadata": {
        "id": "UHEAhjd_xgSp"
      },
      "execution_count": null,
      "outputs": []
    },
    {
      "cell_type": "code",
      "source": [
        "x_train_all = x_train_all.reshape(x_train_all.shape[0], TOTAL_INPUTS)"
      ],
      "metadata": {
        "id": "N4-Ywx1kxjZx"
      },
      "execution_count": null,
      "outputs": []
    },
    {
      "cell_type": "code",
      "source": [
        "x_train_all.shape"
      ],
      "metadata": {
        "colab": {
          "base_uri": "https://localhost:8080/"
        },
        "id": "5oPvSGJpxkT5",
        "outputId": "6ae741c8-684d-4c53-9d2b-1eac8061dda8"
      },
      "execution_count": null,
      "outputs": [
        {
          "output_type": "execute_result",
          "data": {
            "text/plain": [
              "(50000, 3072)"
            ]
          },
          "metadata": {},
          "execution_count": 15
        }
      ]
    },
    {
      "cell_type": "code",
      "source": [
        "x_test = x_test.reshape(len(x_test), TOTAL_INPUTS)"
      ],
      "metadata": {
        "id": "M6MgrrCuxlRJ"
      },
      "execution_count": null,
      "outputs": []
    },
    {
      "cell_type": "code",
      "source": [
        "x_test.shape"
      ],
      "metadata": {
        "colab": {
          "base_uri": "https://localhost:8080/"
        },
        "id": "Dl8Sm9qJxmGo",
        "outputId": "c2df245e-8e27-450d-8be6-e876a714fbf1"
      },
      "execution_count": null,
      "outputs": [
        {
          "output_type": "execute_result",
          "data": {
            "text/plain": [
              "(10000, 3072)"
            ]
          },
          "metadata": {},
          "execution_count": 17
        }
      ]
    },
    {
      "cell_type": "markdown",
      "source": [
        "## Create Validation Dataset"
      ],
      "metadata": {
        "id": "ziPQSPI1xqbg"
      }
    },
    {
      "cell_type": "code",
      "source": [
        "x_val = x_train_all[:VALIDATION_SIZE]\n",
        "y_val = y_train_all[:VALIDATION_SIZE]\n",
        "x_val.shape"
      ],
      "metadata": {
        "colab": {
          "base_uri": "https://localhost:8080/"
        },
        "id": "zLsvkjyWxnLR",
        "outputId": "90f3e611-ac8f-4676-c3be-c9be432295e4"
      },
      "execution_count": null,
      "outputs": [
        {
          "output_type": "execute_result",
          "data": {
            "text/plain": [
              "(10000, 3072)"
            ]
          },
          "metadata": {},
          "execution_count": 18
        }
      ]
    },
    {
      "cell_type": "code",
      "source": [
        "x_train = x_train_all[VALIDATION_SIZE:]\n",
        "y_train = y_train_all[VALIDATION_SIZE:]\n",
        "x_train.shape"
      ],
      "metadata": {
        "colab": {
          "base_uri": "https://localhost:8080/"
        },
        "id": "WrJ_rmx-xrrQ",
        "outputId": "e37e6383-3d6b-43f9-cb0b-15e6bff7776c"
      },
      "execution_count": null,
      "outputs": [
        {
          "output_type": "execute_result",
          "data": {
            "text/plain": [
              "(40000, 3072)"
            ]
          },
          "metadata": {},
          "execution_count": 19
        }
      ]
    },
    {
      "cell_type": "markdown",
      "source": [
        "### Create a small dataset (for illustration)"
      ],
      "metadata": {
        "id": "nPhS1P9-xuqB"
      }
    },
    {
      "cell_type": "code",
      "source": [
        "x_train_xs = x_train_all[:SMALL_TRAIN_SIZE]\n",
        "y_train_xs = y_train_all[:SMALL_TRAIN_SIZE]\n",
        "x_train_xs[0]"
      ],
      "metadata": {
        "id": "2j8nQSIixszg",
        "colab": {
          "base_uri": "https://localhost:8080/"
        },
        "outputId": "3dde7b9f-c09c-4ca5-8c4a-e140b98b0e88"
      },
      "execution_count": null,
      "outputs": [
        {
          "output_type": "execute_result",
          "data": {
            "text/plain": [
              "array([0.23137255, 0.24313725, 0.24705882, ..., 0.48235294, 0.36078431,\n",
              "       0.28235294])"
            ]
          },
          "metadata": {},
          "execution_count": 20
        }
      ]
    },
    {
      "cell_type": "markdown",
      "source": [
        "# Define Neural Network Using KERAS"
      ],
      "metadata": {
        "id": "JyN12KukzAXJ"
      }
    },
    {
      "cell_type": "code",
      "source": [
        "model_1 = Sequential([\n",
        "    Dense(units=128, input_dim=TOTAL_INPUTS, activation='relu', name=\"m1_hidden1\"),\n",
        "    Dense(units=64, activation='relu', name=\"m1_hidden2\"),\n",
        "    Dense(16, activation='relu', name=\"m1_hidden3\"),\n",
        "    Dense(10, activation='softmax', name=\"m1_output\")\n",
        "])\n",
        "\n",
        "model_1.compile(optimizer=\"adam\",\n",
        "                loss=\"sparse_categorical_crossentropy\",\n",
        "                metrics=['accuracy'],)"
      ],
      "metadata": {
        "id": "F5R17rZrzACB"
      },
      "execution_count": null,
      "outputs": []
    },
    {
      "cell_type": "code",
      "source": [
        "#alternatywny sposób zapisu\n",
        "\n",
        "model_2 = Sequential()\n",
        "\n",
        "model_2.add(Dropout(0.2, seed=42, input_shape=(TOTAL_INPUTS,)))\n",
        "\n",
        "model_2.add(Dense(128, activation='relu', name=\"m2_hidden1\"))\n",
        "model_2.add(Dense(64, activation='relu', name=\"m2_hidden2\"))\n",
        "model_2.add(Dense(16, activation='relu', name=\"m2_hidden3\"))\n",
        "model_2.add(Dense(10, activation='softmax', name=\"m2_output\"))\n",
        "\n",
        "model_2.compile(optimizer=\"adam\",\n",
        "                loss=\"sparse_categorical_crossentropy\",\n",
        "                metrics=['accuracy'],)"
      ],
      "metadata": {
        "id": "WirKJSa1cfTr"
      },
      "execution_count": null,
      "outputs": []
    },
    {
      "cell_type": "code",
      "source": [
        "model_3 = Sequential()\n",
        "\n",
        "model_3.add(Dropout(0.2, seed=42, input_shape=(TOTAL_INPUTS,)))\n",
        "model_3.add(Dense(128, activation='relu', name=\"m2_hidden1\"))\n",
        "\n",
        "model_3.add(Dropout(0.25, seed=42))\n",
        "model_3.add(Dense(64, activation='relu', name=\"m2_hidden2\"))\n",
        "model_3.add(Dense(16, activation='relu', name=\"m2_hidden3\"))\n",
        "model_3.add(Dense(10, activation='softmax', name=\"m2_output\"))\n",
        "\n",
        "model_3.compile(optimizer=\"adam\",\n",
        "                loss=\"sparse_categorical_crossentropy\",\n",
        "                metrics=['accuracy'],)"
      ],
      "metadata": {
        "id": "qME5GlbpfX6H"
      },
      "execution_count": null,
      "outputs": []
    },
    {
      "cell_type": "code",
      "source": [
        "type(model_1)"
      ],
      "metadata": {
        "colab": {
          "base_uri": "https://localhost:8080/"
        },
        "id": "MR75dUXqxvwI",
        "outputId": "c551d630-9706-446e-df24-f34be656ec6c"
      },
      "execution_count": null,
      "outputs": [
        {
          "output_type": "execute_result",
          "data": {
            "text/plain": [
              "keras.src.engine.sequential.Sequential"
            ]
          },
          "metadata": {},
          "execution_count": 24
        }
      ]
    },
    {
      "cell_type": "code",
      "source": [
        "# Sprawdzenie czy GPU jest podpięte\n",
        "\n",
        "print(\"GPU dostępne: \", tf.config.list_physical_devices('GPU'))"
      ],
      "metadata": {
        "colab": {
          "base_uri": "https://localhost:8080/"
        },
        "id": "8cyWdnDLzNK2",
        "outputId": "998bd36d-3f0d-426d-a483-77df2bff0a54"
      },
      "execution_count": null,
      "outputs": [
        {
          "output_type": "stream",
          "name": "stdout",
          "text": [
            "GPU dostępne:  []\n"
          ]
        }
      ]
    },
    {
      "cell_type": "code",
      "source": [
        "model_1.summary()"
      ],
      "metadata": {
        "id": "ICSkUDHC0uEO",
        "colab": {
          "base_uri": "https://localhost:8080/"
        },
        "outputId": "a3bcb43f-6c35-49fa-a08d-7ce54a9b477d"
      },
      "execution_count": null,
      "outputs": [
        {
          "output_type": "stream",
          "name": "stdout",
          "text": [
            "Model: \"sequential\"\n",
            "_________________________________________________________________\n",
            " Layer (type)                Output Shape              Param #   \n",
            "=================================================================\n",
            " m1_hidden1 (Dense)          (None, 128)               393344    \n",
            "                                                                 \n",
            " m1_hidden2 (Dense)          (None, 64)                8256      \n",
            "                                                                 \n",
            " m1_hidden3 (Dense)          (None, 16)                1040      \n",
            "                                                                 \n",
            " m1_output (Dense)           (None, 10)                170       \n",
            "                                                                 \n",
            "=================================================================\n",
            "Total params: 402810 (1.54 MB)\n",
            "Trainable params: 402810 (1.54 MB)\n",
            "Non-trainable params: 0 (0.00 Byte)\n",
            "_________________________________________________________________\n"
          ]
        }
      ]
    },
    {
      "cell_type": "code",
      "source": [
        "model_2.summary()"
      ],
      "metadata": {
        "colab": {
          "base_uri": "https://localhost:8080/"
        },
        "id": "lri15gpVlLQC",
        "outputId": "6bb23474-9f67-4618-e707-38e53d1823fc"
      },
      "execution_count": null,
      "outputs": [
        {
          "output_type": "stream",
          "name": "stdout",
          "text": [
            "Model: \"sequential_1\"\n",
            "_________________________________________________________________\n",
            " Layer (type)                Output Shape              Param #   \n",
            "=================================================================\n",
            " dropout (Dropout)           (None, 3072)              0         \n",
            "                                                                 \n",
            " m2_hidden1 (Dense)          (None, 128)               393344    \n",
            "                                                                 \n",
            " m2_hidden2 (Dense)          (None, 64)                8256      \n",
            "                                                                 \n",
            " m2_hidden3 (Dense)          (None, 16)                1040      \n",
            "                                                                 \n",
            " m2_output (Dense)           (None, 10)                170       \n",
            "                                                                 \n",
            "=================================================================\n",
            "Total params: 402810 (1.54 MB)\n",
            "Trainable params: 402810 (1.54 MB)\n",
            "Non-trainable params: 0 (0.00 Byte)\n",
            "_________________________________________________________________\n"
          ]
        }
      ]
    },
    {
      "cell_type": "markdown",
      "source": [
        "# Fit the Model"
      ],
      "metadata": {
        "id": "nIcUqMiV_lEs"
      }
    },
    {
      "cell_type": "code",
      "source": [
        "samples_per_batch = 1000"
      ],
      "metadata": {
        "id": "AJBP1-wpFR9X"
      },
      "execution_count": null,
      "outputs": []
    },
    {
      "cell_type": "code",
      "source": [
        "#MODEL 1\n",
        "\n",
        "# %%time\n",
        "# nr_epochs = 150\n",
        "# model_1.fit(x_train_xs, y_train_xs, batch_size=samples_per_batch,\n",
        "#             epochs=nr_epochs,\n",
        "#             validation_data=(x_val, y_val))"
      ],
      "metadata": {
        "id": "PRZkgNtqqhV1"
      },
      "execution_count": null,
      "outputs": []
    },
    {
      "cell_type": "code",
      "source": [
        "# #MODEL 2\n",
        "\n",
        "# %%time\n",
        "# nr_epochs = 150\n",
        "# model_2.fit(x_train_xs, y_train_xs, batch_size=samples_per_batch,\n",
        "#             epochs=nr_epochs,\n",
        "#             validation_data=(x_val, y_val))"
      ],
      "metadata": {
        "id": "x8ynR9BwiAKA"
      },
      "execution_count": null,
      "outputs": []
    },
    {
      "cell_type": "code",
      "source": [
        "#MODEL 1 XL\n",
        "\n",
        "%%time\n",
        "nr_epochs = 100\n",
        "model_1.fit(x_train, y_train, batch_size=samples_per_batch,\n",
        "            epochs=nr_epochs,\n",
        "            validation_data=(x_val, y_val))"
      ],
      "metadata": {
        "colab": {
          "base_uri": "https://localhost:8080/"
        },
        "id": "MaUf8M60hNHs",
        "outputId": "39b7adb1-b09b-43e7-a9a6-83c1b320fbfe"
      },
      "execution_count": null,
      "outputs": [
        {
          "output_type": "stream",
          "name": "stdout",
          "text": [
            "Epoch 1/100\n",
            "40/40 [==============================] - 8s 144ms/step - loss: 2.2214 - accuracy: 0.1465 - val_loss: 2.1646 - val_accuracy: 0.1914\n",
            "Epoch 2/100\n",
            "40/40 [==============================] - 4s 102ms/step - loss: 2.1423 - accuracy: 0.2093 - val_loss: 2.1187 - val_accuracy: 0.2046\n",
            "Epoch 3/100\n",
            "40/40 [==============================] - 5s 137ms/step - loss: 2.0922 - accuracy: 0.2230 - val_loss: 2.0701 - val_accuracy: 0.2199\n",
            "Epoch 4/100\n",
            "40/40 [==============================] - 4s 113ms/step - loss: 2.0425 - accuracy: 0.2405 - val_loss: 1.9981 - val_accuracy: 0.2681\n",
            "Epoch 5/100\n",
            "40/40 [==============================] - 3s 70ms/step - loss: 1.9513 - accuracy: 0.2828 - val_loss: 1.9033 - val_accuracy: 0.3092\n",
            "Epoch 6/100\n",
            "40/40 [==============================] - 2s 53ms/step - loss: 1.8885 - accuracy: 0.3136 - val_loss: 1.8474 - val_accuracy: 0.3407\n",
            "Epoch 7/100\n",
            "40/40 [==============================] - 3s 82ms/step - loss: 1.8304 - accuracy: 0.3426 - val_loss: 1.7978 - val_accuracy: 0.3571\n",
            "Epoch 8/100\n",
            "40/40 [==============================] - 2s 54ms/step - loss: 1.7859 - accuracy: 0.3638 - val_loss: 1.7656 - val_accuracy: 0.3757\n",
            "Epoch 9/100\n",
            "40/40 [==============================] - 2s 53ms/step - loss: 1.7443 - accuracy: 0.3761 - val_loss: 1.7145 - val_accuracy: 0.3885\n",
            "Epoch 10/100\n",
            "40/40 [==============================] - 2s 53ms/step - loss: 1.7225 - accuracy: 0.3805 - val_loss: 1.7126 - val_accuracy: 0.3796\n",
            "Epoch 11/100\n",
            "40/40 [==============================] - 2s 51ms/step - loss: 1.6895 - accuracy: 0.3936 - val_loss: 1.6973 - val_accuracy: 0.3846\n",
            "Epoch 12/100\n",
            "40/40 [==============================] - 2s 53ms/step - loss: 1.6888 - accuracy: 0.3921 - val_loss: 1.6731 - val_accuracy: 0.3938\n",
            "Epoch 13/100\n",
            "40/40 [==============================] - 3s 83ms/step - loss: 1.6594 - accuracy: 0.4047 - val_loss: 1.6568 - val_accuracy: 0.4035\n",
            "Epoch 14/100\n",
            "40/40 [==============================] - 2s 53ms/step - loss: 1.6409 - accuracy: 0.4124 - val_loss: 1.6392 - val_accuracy: 0.4106\n",
            "Epoch 15/100\n",
            "40/40 [==============================] - 2s 51ms/step - loss: 1.6356 - accuracy: 0.4139 - val_loss: 1.6337 - val_accuracy: 0.4139\n",
            "Epoch 16/100\n",
            "40/40 [==============================] - 2s 53ms/step - loss: 1.6209 - accuracy: 0.4207 - val_loss: 1.6347 - val_accuracy: 0.4158\n",
            "Epoch 17/100\n",
            "40/40 [==============================] - 2s 51ms/step - loss: 1.6059 - accuracy: 0.4263 - val_loss: 1.6248 - val_accuracy: 0.4188\n",
            "Epoch 18/100\n",
            "40/40 [==============================] - 3s 64ms/step - loss: 1.5957 - accuracy: 0.4313 - val_loss: 1.6092 - val_accuracy: 0.4165\n",
            "Epoch 19/100\n",
            "40/40 [==============================] - 3s 68ms/step - loss: 1.5881 - accuracy: 0.4362 - val_loss: 1.6492 - val_accuracy: 0.4147\n",
            "Epoch 20/100\n",
            "40/40 [==============================] - 2s 52ms/step - loss: 1.5831 - accuracy: 0.4373 - val_loss: 1.6018 - val_accuracy: 0.4261\n",
            "Epoch 21/100\n",
            "40/40 [==============================] - 2s 50ms/step - loss: 1.5635 - accuracy: 0.4427 - val_loss: 1.5822 - val_accuracy: 0.4348\n",
            "Epoch 22/100\n",
            "40/40 [==============================] - 2s 50ms/step - loss: 1.5543 - accuracy: 0.4482 - val_loss: 1.5843 - val_accuracy: 0.4315\n",
            "Epoch 23/100\n",
            "40/40 [==============================] - 2s 53ms/step - loss: 1.5427 - accuracy: 0.4516 - val_loss: 1.5750 - val_accuracy: 0.4407\n",
            "Epoch 24/100\n",
            "40/40 [==============================] - 3s 78ms/step - loss: 1.5233 - accuracy: 0.4597 - val_loss: 1.5540 - val_accuracy: 0.4464\n",
            "Epoch 25/100\n",
            "40/40 [==============================] - 2s 59ms/step - loss: 1.5188 - accuracy: 0.4598 - val_loss: 1.5835 - val_accuracy: 0.4320\n",
            "Epoch 26/100\n",
            "40/40 [==============================] - 2s 54ms/step - loss: 1.5037 - accuracy: 0.4649 - val_loss: 1.5369 - val_accuracy: 0.4508\n",
            "Epoch 27/100\n",
            "40/40 [==============================] - 2s 53ms/step - loss: 1.4952 - accuracy: 0.4681 - val_loss: 1.5349 - val_accuracy: 0.4523\n",
            "Epoch 28/100\n",
            "40/40 [==============================] - 2s 54ms/step - loss: 1.4866 - accuracy: 0.4707 - val_loss: 1.5661 - val_accuracy: 0.4382\n",
            "Epoch 29/100\n",
            "40/40 [==============================] - 2s 62ms/step - loss: 1.4876 - accuracy: 0.4715 - val_loss: 1.5530 - val_accuracy: 0.4473\n",
            "Epoch 30/100\n",
            "40/40 [==============================] - 3s 73ms/step - loss: 1.4689 - accuracy: 0.4779 - val_loss: 1.5182 - val_accuracy: 0.4597\n",
            "Epoch 31/100\n",
            "40/40 [==============================] - 2s 51ms/step - loss: 1.4606 - accuracy: 0.4815 - val_loss: 1.5197 - val_accuracy: 0.4595\n",
            "Epoch 32/100\n",
            "40/40 [==============================] - 2s 53ms/step - loss: 1.4574 - accuracy: 0.4796 - val_loss: 1.5467 - val_accuracy: 0.4518\n",
            "Epoch 33/100\n",
            "40/40 [==============================] - 2s 51ms/step - loss: 1.4488 - accuracy: 0.4854 - val_loss: 1.5023 - val_accuracy: 0.4656\n",
            "Epoch 34/100\n",
            "40/40 [==============================] - 2s 53ms/step - loss: 1.4407 - accuracy: 0.4876 - val_loss: 1.4965 - val_accuracy: 0.4695\n",
            "Epoch 35/100\n",
            "40/40 [==============================] - 3s 70ms/step - loss: 1.4338 - accuracy: 0.4873 - val_loss: 1.5046 - val_accuracy: 0.4644\n",
            "Epoch 36/100\n",
            "40/40 [==============================] - 3s 67ms/step - loss: 1.4205 - accuracy: 0.4926 - val_loss: 1.5156 - val_accuracy: 0.4633\n",
            "Epoch 37/100\n",
            "40/40 [==============================] - 2s 54ms/step - loss: 1.4282 - accuracy: 0.4924 - val_loss: 1.4945 - val_accuracy: 0.4684\n",
            "Epoch 38/100\n",
            "40/40 [==============================] - 2s 50ms/step - loss: 1.4116 - accuracy: 0.4990 - val_loss: 1.4780 - val_accuracy: 0.4719\n",
            "Epoch 39/100\n",
            "40/40 [==============================] - 2s 51ms/step - loss: 1.4139 - accuracy: 0.4955 - val_loss: 1.4876 - val_accuracy: 0.4697\n",
            "Epoch 40/100\n",
            "40/40 [==============================] - 3s 68ms/step - loss: 1.3951 - accuracy: 0.5038 - val_loss: 1.5095 - val_accuracy: 0.4628\n",
            "Epoch 41/100\n",
            "40/40 [==============================] - 4s 108ms/step - loss: 1.3925 - accuracy: 0.5065 - val_loss: 1.4832 - val_accuracy: 0.4734\n",
            "Epoch 42/100\n",
            "40/40 [==============================] - 2s 50ms/step - loss: 1.3951 - accuracy: 0.5038 - val_loss: 1.4794 - val_accuracy: 0.4715\n",
            "Epoch 43/100\n",
            "40/40 [==============================] - 2s 53ms/step - loss: 1.3784 - accuracy: 0.5091 - val_loss: 1.4915 - val_accuracy: 0.4689\n",
            "Epoch 44/100\n",
            "40/40 [==============================] - 2s 53ms/step - loss: 1.3785 - accuracy: 0.5100 - val_loss: 1.4749 - val_accuracy: 0.4794\n",
            "Epoch 45/100\n",
            "40/40 [==============================] - 2s 54ms/step - loss: 1.3853 - accuracy: 0.5076 - val_loss: 1.4880 - val_accuracy: 0.4725\n",
            "Epoch 46/100\n",
            "40/40 [==============================] - 4s 93ms/step - loss: 1.3756 - accuracy: 0.5114 - val_loss: 1.5273 - val_accuracy: 0.4606\n",
            "Epoch 47/100\n",
            "40/40 [==============================] - 2s 58ms/step - loss: 1.3638 - accuracy: 0.5165 - val_loss: 1.4617 - val_accuracy: 0.4815\n",
            "Epoch 48/100\n",
            "40/40 [==============================] - 2s 54ms/step - loss: 1.3617 - accuracy: 0.5152 - val_loss: 1.4824 - val_accuracy: 0.4744\n",
            "Epoch 49/100\n",
            "40/40 [==============================] - 2s 51ms/step - loss: 1.3548 - accuracy: 0.5182 - val_loss: 1.4719 - val_accuracy: 0.4818\n",
            "Epoch 50/100\n",
            "40/40 [==============================] - 2s 54ms/step - loss: 1.3539 - accuracy: 0.5191 - val_loss: 1.4653 - val_accuracy: 0.4825\n",
            "Epoch 51/100\n",
            "40/40 [==============================] - 3s 87ms/step - loss: 1.3529 - accuracy: 0.5180 - val_loss: 1.4664 - val_accuracy: 0.4776\n",
            "Epoch 52/100\n",
            "40/40 [==============================] - 4s 87ms/step - loss: 1.3429 - accuracy: 0.5216 - val_loss: 1.4676 - val_accuracy: 0.4801\n",
            "Epoch 53/100\n",
            "40/40 [==============================] - 4s 112ms/step - loss: 1.3369 - accuracy: 0.5261 - val_loss: 1.4607 - val_accuracy: 0.4825\n",
            "Epoch 54/100\n",
            "40/40 [==============================] - 6s 144ms/step - loss: 1.3419 - accuracy: 0.5214 - val_loss: 1.4819 - val_accuracy: 0.4735\n",
            "Epoch 55/100\n",
            "40/40 [==============================] - 5s 116ms/step - loss: 1.3243 - accuracy: 0.5319 - val_loss: 1.4599 - val_accuracy: 0.4847\n",
            "Epoch 56/100\n",
            "40/40 [==============================] - 4s 104ms/step - loss: 1.3290 - accuracy: 0.5281 - val_loss: 1.4557 - val_accuracy: 0.4843\n",
            "Epoch 57/100\n",
            "40/40 [==============================] - 5s 130ms/step - loss: 1.3215 - accuracy: 0.5309 - val_loss: 1.4870 - val_accuracy: 0.4776\n",
            "Epoch 58/100\n",
            "40/40 [==============================] - 4s 109ms/step - loss: 1.3200 - accuracy: 0.5310 - val_loss: 1.4732 - val_accuracy: 0.4800\n",
            "Epoch 59/100\n",
            "40/40 [==============================] - 4s 95ms/step - loss: 1.3242 - accuracy: 0.5269 - val_loss: 1.4794 - val_accuracy: 0.4739\n",
            "Epoch 60/100\n",
            "40/40 [==============================] - 5s 118ms/step - loss: 1.3075 - accuracy: 0.5354 - val_loss: 1.4807 - val_accuracy: 0.4776\n",
            "Epoch 61/100\n",
            "40/40 [==============================] - 3s 86ms/step - loss: 1.3228 - accuracy: 0.5304 - val_loss: 1.4525 - val_accuracy: 0.4900\n",
            "Epoch 62/100\n",
            "40/40 [==============================] - 2s 54ms/step - loss: 1.3066 - accuracy: 0.5391 - val_loss: 1.4628 - val_accuracy: 0.4849\n",
            "Epoch 63/100\n",
            "40/40 [==============================] - 2s 53ms/step - loss: 1.3045 - accuracy: 0.5383 - val_loss: 1.4405 - val_accuracy: 0.4913\n",
            "Epoch 64/100\n",
            "40/40 [==============================] - 2s 54ms/step - loss: 1.2880 - accuracy: 0.5439 - val_loss: 1.4580 - val_accuracy: 0.4841\n",
            "Epoch 65/100\n",
            "40/40 [==============================] - 3s 83ms/step - loss: 1.2961 - accuracy: 0.5399 - val_loss: 1.4968 - val_accuracy: 0.4765\n",
            "Epoch 66/100\n",
            "40/40 [==============================] - 2s 54ms/step - loss: 1.2958 - accuracy: 0.5421 - val_loss: 1.4480 - val_accuracy: 0.4885\n",
            "Epoch 67/100\n",
            "40/40 [==============================] - 2s 54ms/step - loss: 1.2856 - accuracy: 0.5421 - val_loss: 1.4641 - val_accuracy: 0.4830\n",
            "Epoch 68/100\n",
            "40/40 [==============================] - 2s 54ms/step - loss: 1.2805 - accuracy: 0.5457 - val_loss: 1.4562 - val_accuracy: 0.4855\n",
            "Epoch 69/100\n",
            "40/40 [==============================] - 2s 53ms/step - loss: 1.2754 - accuracy: 0.5471 - val_loss: 1.4520 - val_accuracy: 0.4955\n",
            "Epoch 70/100\n",
            "40/40 [==============================] - 3s 66ms/step - loss: 1.2686 - accuracy: 0.5510 - val_loss: 1.4657 - val_accuracy: 0.4898\n",
            "Epoch 71/100\n",
            "40/40 [==============================] - 3s 69ms/step - loss: 1.2785 - accuracy: 0.5451 - val_loss: 1.4748 - val_accuracy: 0.4827\n",
            "Epoch 72/100\n",
            "40/40 [==============================] - 2s 55ms/step - loss: 1.2620 - accuracy: 0.5521 - val_loss: 1.4558 - val_accuracy: 0.4835\n",
            "Epoch 73/100\n",
            "40/40 [==============================] - 2s 52ms/step - loss: 1.2674 - accuracy: 0.5518 - val_loss: 1.4579 - val_accuracy: 0.4873\n",
            "Epoch 74/100\n",
            "40/40 [==============================] - 2s 51ms/step - loss: 1.2638 - accuracy: 0.5512 - val_loss: 1.4646 - val_accuracy: 0.4897\n",
            "Epoch 75/100\n",
            "40/40 [==============================] - 2s 54ms/step - loss: 1.2618 - accuracy: 0.5505 - val_loss: 1.4530 - val_accuracy: 0.4878\n",
            "Epoch 76/100\n",
            "40/40 [==============================] - 3s 79ms/step - loss: 1.2548 - accuracy: 0.5552 - val_loss: 1.4604 - val_accuracy: 0.4805\n",
            "Epoch 77/100\n",
            "40/40 [==============================] - 2s 56ms/step - loss: 1.2582 - accuracy: 0.5530 - val_loss: 1.4406 - val_accuracy: 0.4958\n",
            "Epoch 78/100\n",
            "40/40 [==============================] - 2s 53ms/step - loss: 1.2523 - accuracy: 0.5579 - val_loss: 1.4562 - val_accuracy: 0.4927\n",
            "Epoch 79/100\n",
            "40/40 [==============================] - 2s 51ms/step - loss: 1.2468 - accuracy: 0.5584 - val_loss: 1.4575 - val_accuracy: 0.4874\n",
            "Epoch 80/100\n",
            "40/40 [==============================] - 2s 54ms/step - loss: 1.2428 - accuracy: 0.5614 - val_loss: 1.4685 - val_accuracy: 0.4822\n",
            "Epoch 81/100\n",
            "40/40 [==============================] - 5s 116ms/step - loss: 1.2491 - accuracy: 0.5594 - val_loss: 1.4608 - val_accuracy: 0.4877\n",
            "Epoch 82/100\n",
            "40/40 [==============================] - 4s 106ms/step - loss: 1.2390 - accuracy: 0.5606 - val_loss: 1.4486 - val_accuracy: 0.4936\n",
            "Epoch 83/100\n",
            "40/40 [==============================] - 5s 133ms/step - loss: 1.2381 - accuracy: 0.5623 - val_loss: 1.4548 - val_accuracy: 0.4897\n",
            "Epoch 84/100\n",
            "40/40 [==============================] - 5s 134ms/step - loss: 1.2408 - accuracy: 0.5621 - val_loss: 1.4545 - val_accuracy: 0.4937\n",
            "Epoch 85/100\n",
            "40/40 [==============================] - 3s 87ms/step - loss: 1.2386 - accuracy: 0.5617 - val_loss: 1.4543 - val_accuracy: 0.4883\n",
            "Epoch 86/100\n",
            "40/40 [==============================] - 5s 116ms/step - loss: 1.2339 - accuracy: 0.5629 - val_loss: 1.4788 - val_accuracy: 0.4849\n",
            "Epoch 87/100\n",
            "40/40 [==============================] - 5s 135ms/step - loss: 1.2312 - accuracy: 0.5634 - val_loss: 1.4512 - val_accuracy: 0.4929\n",
            "Epoch 88/100\n",
            "40/40 [==============================] - 3s 85ms/step - loss: 1.2260 - accuracy: 0.5673 - val_loss: 1.4568 - val_accuracy: 0.4932\n",
            "Epoch 89/100\n",
            "40/40 [==============================] - 3s 67ms/step - loss: 1.2352 - accuracy: 0.5646 - val_loss: 1.4527 - val_accuracy: 0.4902\n",
            "Epoch 90/100\n",
            "40/40 [==============================] - 4s 103ms/step - loss: 1.2293 - accuracy: 0.5652 - val_loss: 1.4780 - val_accuracy: 0.4842\n",
            "Epoch 91/100\n",
            "40/40 [==============================] - 4s 97ms/step - loss: 1.2130 - accuracy: 0.5709 - val_loss: 1.4490 - val_accuracy: 0.4992\n",
            "Epoch 92/100\n",
            "40/40 [==============================] - 2s 52ms/step - loss: 1.2181 - accuracy: 0.5691 - val_loss: 1.4601 - val_accuracy: 0.4873\n",
            "Epoch 93/100\n",
            "40/40 [==============================] - 2s 55ms/step - loss: 1.2190 - accuracy: 0.5699 - val_loss: 1.4670 - val_accuracy: 0.4870\n",
            "Epoch 94/100\n",
            "40/40 [==============================] - 2s 51ms/step - loss: 1.2303 - accuracy: 0.5642 - val_loss: 1.4899 - val_accuracy: 0.4849\n",
            "Epoch 95/100\n",
            "40/40 [==============================] - 3s 65ms/step - loss: 1.2140 - accuracy: 0.5705 - val_loss: 1.4617 - val_accuracy: 0.4896\n",
            "Epoch 96/100\n",
            "40/40 [==============================] - 3s 74ms/step - loss: 1.2130 - accuracy: 0.5717 - val_loss: 1.4868 - val_accuracy: 0.4846\n",
            "Epoch 97/100\n",
            "40/40 [==============================] - 2s 54ms/step - loss: 1.2249 - accuracy: 0.5666 - val_loss: 1.4996 - val_accuracy: 0.4814\n",
            "Epoch 98/100\n",
            "40/40 [==============================] - 4s 90ms/step - loss: 1.2096 - accuracy: 0.5734 - val_loss: 1.4475 - val_accuracy: 0.4926\n",
            "Epoch 99/100\n",
            "40/40 [==============================] - 4s 106ms/step - loss: 1.2029 - accuracy: 0.5721 - val_loss: 1.4595 - val_accuracy: 0.4924\n",
            "Epoch 100/100\n",
            "40/40 [==============================] - 4s 102ms/step - loss: 1.1878 - accuracy: 0.5799 - val_loss: 1.4598 - val_accuracy: 0.4929\n",
            "CPU times: user 5min 44s, sys: 10.9 s, total: 5min 55s\n",
            "Wall time: 4min 57s\n"
          ]
        },
        {
          "output_type": "execute_result",
          "data": {
            "text/plain": [
              "<keras.src.callbacks.History at 0x796aa9bd3880>"
            ]
          },
          "metadata": {},
          "execution_count": 31
        }
      ]
    },
    {
      "cell_type": "code",
      "source": [
        "#MODEL 2 XL\n",
        "\n",
        "%%time\n",
        "nr_epochs = 100\n",
        "model_2.fit(x_train, y_train, batch_size=samples_per_batch,\n",
        "            epochs=nr_epochs,\n",
        "            validation_data=(x_val, y_val))"
      ],
      "metadata": {
        "colab": {
          "base_uri": "https://localhost:8080/"
        },
        "id": "wuQtM0bahnF2",
        "outputId": "5280b975-6378-4b1b-d06f-a762a57d1a66"
      },
      "execution_count": null,
      "outputs": [
        {
          "output_type": "stream",
          "name": "stdout",
          "text": [
            "Epoch 1/100\n",
            "40/40 [==============================] - 7s 177ms/step - loss: 1.2638 - accuracy: 0.5485 - val_loss: 1.4028 - val_accuracy: 0.5059\n",
            "Epoch 2/100\n",
            "40/40 [==============================] - 4s 98ms/step - loss: 1.2647 - accuracy: 0.5475 - val_loss: 1.4118 - val_accuracy: 0.5032\n",
            "Epoch 3/100\n",
            "40/40 [==============================] - 3s 76ms/step - loss: 1.2588 - accuracy: 0.5503 - val_loss: 1.4009 - val_accuracy: 0.5088\n",
            "Epoch 4/100\n",
            "40/40 [==============================] - 3s 76ms/step - loss: 1.2617 - accuracy: 0.5499 - val_loss: 1.4082 - val_accuracy: 0.5057\n",
            "Epoch 5/100\n",
            "40/40 [==============================] - 5s 137ms/step - loss: 1.2636 - accuracy: 0.5477 - val_loss: 1.3959 - val_accuracy: 0.5107\n",
            "Epoch 6/100\n",
            "40/40 [==============================] - 3s 75ms/step - loss: 1.2577 - accuracy: 0.5495 - val_loss: 1.4145 - val_accuracy: 0.5061\n",
            "Epoch 7/100\n",
            "40/40 [==============================] - 5s 123ms/step - loss: 1.2602 - accuracy: 0.5475 - val_loss: 1.4081 - val_accuracy: 0.5082\n",
            "Epoch 8/100\n",
            "40/40 [==============================] - 7s 169ms/step - loss: 1.2507 - accuracy: 0.5499 - val_loss: 1.3999 - val_accuracy: 0.5070\n",
            "Epoch 9/100\n",
            "40/40 [==============================] - 5s 125ms/step - loss: 1.2547 - accuracy: 0.5520 - val_loss: 1.4138 - val_accuracy: 0.5041\n",
            "Epoch 10/100\n",
            "40/40 [==============================] - 6s 151ms/step - loss: 1.2606 - accuracy: 0.5507 - val_loss: 1.4064 - val_accuracy: 0.5100\n",
            "Epoch 11/100\n",
            "40/40 [==============================] - 3s 77ms/step - loss: 1.2551 - accuracy: 0.5518 - val_loss: 1.4055 - val_accuracy: 0.5054\n",
            "Epoch 12/100\n",
            "40/40 [==============================] - 3s 74ms/step - loss: 1.2517 - accuracy: 0.5515 - val_loss: 1.3989 - val_accuracy: 0.5057\n",
            "Epoch 13/100\n",
            "40/40 [==============================] - 3s 74ms/step - loss: 1.2505 - accuracy: 0.5536 - val_loss: 1.4026 - val_accuracy: 0.5052\n",
            "Epoch 14/100\n",
            "40/40 [==============================] - 5s 130ms/step - loss: 1.2456 - accuracy: 0.5571 - val_loss: 1.4005 - val_accuracy: 0.5088\n",
            "Epoch 15/100\n",
            "40/40 [==============================] - 3s 77ms/step - loss: 1.2492 - accuracy: 0.5522 - val_loss: 1.4136 - val_accuracy: 0.5035\n",
            "Epoch 16/100\n",
            "40/40 [==============================] - 3s 77ms/step - loss: 1.2416 - accuracy: 0.5556 - val_loss: 1.4022 - val_accuracy: 0.5109\n",
            "Epoch 17/100\n",
            "40/40 [==============================] - 3s 76ms/step - loss: 1.2478 - accuracy: 0.5534 - val_loss: 1.3990 - val_accuracy: 0.5105\n",
            "Epoch 18/100\n",
            "40/40 [==============================] - 4s 103ms/step - loss: 1.2367 - accuracy: 0.5564 - val_loss: 1.3973 - val_accuracy: 0.5072\n",
            "Epoch 19/100\n",
            "40/40 [==============================] - 3s 74ms/step - loss: 1.2460 - accuracy: 0.5537 - val_loss: 1.4145 - val_accuracy: 0.5047\n",
            "Epoch 20/100\n",
            "40/40 [==============================] - 3s 74ms/step - loss: 1.2417 - accuracy: 0.5549 - val_loss: 1.4093 - val_accuracy: 0.5110\n",
            "Epoch 21/100\n",
            "40/40 [==============================] - 3s 77ms/step - loss: 1.2382 - accuracy: 0.5577 - val_loss: 1.4038 - val_accuracy: 0.5100\n",
            "Epoch 22/100\n",
            "40/40 [==============================] - 4s 102ms/step - loss: 1.2361 - accuracy: 0.5582 - val_loss: 1.4034 - val_accuracy: 0.5091\n",
            "Epoch 23/100\n",
            "40/40 [==============================] - 3s 87ms/step - loss: 1.2335 - accuracy: 0.5573 - val_loss: 1.4182 - val_accuracy: 0.5024\n",
            "Epoch 24/100\n",
            "40/40 [==============================] - 3s 75ms/step - loss: 1.2371 - accuracy: 0.5564 - val_loss: 1.4062 - val_accuracy: 0.5092\n",
            "Epoch 25/100\n",
            "40/40 [==============================] - 3s 84ms/step - loss: 1.2359 - accuracy: 0.5558 - val_loss: 1.3998 - val_accuracy: 0.5086\n",
            "Epoch 26/100\n",
            "40/40 [==============================] - 4s 96ms/step - loss: 1.2345 - accuracy: 0.5572 - val_loss: 1.3932 - val_accuracy: 0.5134\n",
            "Epoch 27/100\n",
            "40/40 [==============================] - 3s 75ms/step - loss: 1.2342 - accuracy: 0.5584 - val_loss: 1.4004 - val_accuracy: 0.5100\n",
            "Epoch 28/100\n",
            "40/40 [==============================] - 4s 91ms/step - loss: 1.2276 - accuracy: 0.5601 - val_loss: 1.3944 - val_accuracy: 0.5143\n",
            "Epoch 29/100\n",
            "40/40 [==============================] - 4s 106ms/step - loss: 1.2297 - accuracy: 0.5614 - val_loss: 1.4135 - val_accuracy: 0.5111\n",
            "Epoch 30/100\n",
            "40/40 [==============================] - 3s 75ms/step - loss: 1.2361 - accuracy: 0.5578 - val_loss: 1.4008 - val_accuracy: 0.5096\n",
            "Epoch 31/100\n",
            "40/40 [==============================] - 3s 74ms/step - loss: 1.2289 - accuracy: 0.5602 - val_loss: 1.3981 - val_accuracy: 0.5090\n",
            "Epoch 32/100\n",
            "40/40 [==============================] - 3s 77ms/step - loss: 1.2230 - accuracy: 0.5629 - val_loss: 1.4153 - val_accuracy: 0.5063\n",
            "Epoch 33/100\n",
            "40/40 [==============================] - 4s 112ms/step - loss: 1.2230 - accuracy: 0.5645 - val_loss: 1.4087 - val_accuracy: 0.5099\n",
            "Epoch 34/100\n",
            "40/40 [==============================] - 3s 77ms/step - loss: 1.2313 - accuracy: 0.5575 - val_loss: 1.4177 - val_accuracy: 0.5065\n",
            "Epoch 35/100\n",
            "40/40 [==============================] - 3s 74ms/step - loss: 1.2233 - accuracy: 0.5610 - val_loss: 1.3916 - val_accuracy: 0.5137\n",
            "Epoch 36/100\n",
            "40/40 [==============================] - 3s 76ms/step - loss: 1.2244 - accuracy: 0.5637 - val_loss: 1.4010 - val_accuracy: 0.5082\n",
            "Epoch 37/100\n",
            "40/40 [==============================] - 4s 108ms/step - loss: 1.2224 - accuracy: 0.5608 - val_loss: 1.4263 - val_accuracy: 0.5026\n",
            "Epoch 38/100\n",
            "40/40 [==============================] - 3s 77ms/step - loss: 1.2350 - accuracy: 0.5600 - val_loss: 1.3961 - val_accuracy: 0.5138\n",
            "Epoch 39/100\n",
            "40/40 [==============================] - 3s 77ms/step - loss: 1.2211 - accuracy: 0.5640 - val_loss: 1.3981 - val_accuracy: 0.5124\n",
            "Epoch 40/100\n",
            "40/40 [==============================] - 3s 77ms/step - loss: 1.2151 - accuracy: 0.5654 - val_loss: 1.4218 - val_accuracy: 0.5049\n",
            "Epoch 41/100\n",
            "40/40 [==============================] - 4s 106ms/step - loss: 1.2237 - accuracy: 0.5616 - val_loss: 1.4015 - val_accuracy: 0.5142\n",
            "Epoch 42/100\n",
            "40/40 [==============================] - 3s 74ms/step - loss: 1.2168 - accuracy: 0.5653 - val_loss: 1.4009 - val_accuracy: 0.5136\n",
            "Epoch 43/100\n",
            "40/40 [==============================] - 3s 75ms/step - loss: 1.2156 - accuracy: 0.5651 - val_loss: 1.4181 - val_accuracy: 0.5044\n",
            "Epoch 44/100\n",
            "40/40 [==============================] - 3s 77ms/step - loss: 1.2209 - accuracy: 0.5621 - val_loss: 1.4073 - val_accuracy: 0.5091\n",
            "Epoch 45/100\n",
            "40/40 [==============================] - 4s 108ms/step - loss: 1.2140 - accuracy: 0.5670 - val_loss: 1.4072 - val_accuracy: 0.5112\n",
            "Epoch 46/100\n",
            "40/40 [==============================] - 3s 74ms/step - loss: 1.2199 - accuracy: 0.5652 - val_loss: 1.4190 - val_accuracy: 0.5087\n",
            "Epoch 47/100\n",
            "40/40 [==============================] - 3s 74ms/step - loss: 1.2111 - accuracy: 0.5650 - val_loss: 1.3974 - val_accuracy: 0.5148\n",
            "Epoch 48/100\n",
            "40/40 [==============================] - 3s 76ms/step - loss: 1.2200 - accuracy: 0.5636 - val_loss: 1.4139 - val_accuracy: 0.5078\n",
            "Epoch 49/100\n",
            "40/40 [==============================] - 4s 106ms/step - loss: 1.2167 - accuracy: 0.5633 - val_loss: 1.4037 - val_accuracy: 0.5138\n",
            "Epoch 50/100\n",
            "40/40 [==============================] - 3s 75ms/step - loss: 1.2071 - accuracy: 0.5685 - val_loss: 1.3898 - val_accuracy: 0.5184\n",
            "Epoch 51/100\n",
            "40/40 [==============================] - 3s 74ms/step - loss: 1.2058 - accuracy: 0.5677 - val_loss: 1.4130 - val_accuracy: 0.5122\n",
            "Epoch 52/100\n",
            "40/40 [==============================] - 3s 78ms/step - loss: 1.2098 - accuracy: 0.5662 - val_loss: 1.4210 - val_accuracy: 0.5052\n",
            "Epoch 53/100\n",
            "40/40 [==============================] - 4s 101ms/step - loss: 1.2052 - accuracy: 0.5688 - val_loss: 1.4233 - val_accuracy: 0.5084\n",
            "Epoch 54/100\n",
            "40/40 [==============================] - 3s 75ms/step - loss: 1.2152 - accuracy: 0.5642 - val_loss: 1.4049 - val_accuracy: 0.5124\n",
            "Epoch 55/100\n",
            "40/40 [==============================] - 4s 88ms/step - loss: 1.2022 - accuracy: 0.5690 - val_loss: 1.3981 - val_accuracy: 0.5161\n",
            "Epoch 56/100\n",
            "40/40 [==============================] - 4s 96ms/step - loss: 1.2107 - accuracy: 0.5673 - val_loss: 1.4181 - val_accuracy: 0.5070\n",
            "Epoch 57/100\n",
            "40/40 [==============================] - 4s 88ms/step - loss: 1.2083 - accuracy: 0.5682 - val_loss: 1.4079 - val_accuracy: 0.5133\n",
            "Epoch 58/100\n",
            "40/40 [==============================] - 3s 75ms/step - loss: 1.2081 - accuracy: 0.5622 - val_loss: 1.4038 - val_accuracy: 0.5154\n",
            "Epoch 59/100\n",
            "40/40 [==============================] - 3s 76ms/step - loss: 1.2067 - accuracy: 0.5670 - val_loss: 1.4032 - val_accuracy: 0.5163\n",
            "Epoch 60/100\n",
            "40/40 [==============================] - 5s 118ms/step - loss: 1.2015 - accuracy: 0.5716 - val_loss: 1.4068 - val_accuracy: 0.5156\n",
            "Epoch 61/100\n",
            "40/40 [==============================] - 3s 78ms/step - loss: 1.2044 - accuracy: 0.5702 - val_loss: 1.4063 - val_accuracy: 0.5122\n",
            "Epoch 62/100\n",
            "40/40 [==============================] - 4s 92ms/step - loss: 1.2114 - accuracy: 0.5665 - val_loss: 1.4000 - val_accuracy: 0.5133\n",
            "Epoch 63/100\n",
            "40/40 [==============================] - 4s 105ms/step - loss: 1.1993 - accuracy: 0.5720 - val_loss: 1.3968 - val_accuracy: 0.5163\n",
            "Epoch 64/100\n",
            "40/40 [==============================] - 4s 94ms/step - loss: 1.2022 - accuracy: 0.5695 - val_loss: 1.4153 - val_accuracy: 0.5082\n",
            "Epoch 65/100\n",
            "40/40 [==============================] - 3s 77ms/step - loss: 1.2033 - accuracy: 0.5675 - val_loss: 1.3970 - val_accuracy: 0.5175\n",
            "Epoch 66/100\n",
            "40/40 [==============================] - 3s 76ms/step - loss: 1.1989 - accuracy: 0.5696 - val_loss: 1.4049 - val_accuracy: 0.5139\n",
            "Epoch 67/100\n",
            "40/40 [==============================] - 4s 98ms/step - loss: 1.1933 - accuracy: 0.5717 - val_loss: 1.4103 - val_accuracy: 0.5138\n",
            "Epoch 68/100\n",
            "40/40 [==============================] - 3s 81ms/step - loss: 1.1969 - accuracy: 0.5697 - val_loss: 1.3982 - val_accuracy: 0.5160\n",
            "Epoch 69/100\n",
            "40/40 [==============================] - 3s 77ms/step - loss: 1.1950 - accuracy: 0.5723 - val_loss: 1.4043 - val_accuracy: 0.5104\n",
            "Epoch 70/100\n",
            "40/40 [==============================] - 3s 77ms/step - loss: 1.1968 - accuracy: 0.5726 - val_loss: 1.4081 - val_accuracy: 0.5129\n",
            "Epoch 71/100\n",
            "40/40 [==============================] - 4s 110ms/step - loss: 1.1995 - accuracy: 0.5700 - val_loss: 1.4192 - val_accuracy: 0.5082\n",
            "Epoch 72/100\n",
            "40/40 [==============================] - 3s 77ms/step - loss: 1.1943 - accuracy: 0.5735 - val_loss: 1.4070 - val_accuracy: 0.5117\n",
            "Epoch 73/100\n",
            "40/40 [==============================] - 3s 75ms/step - loss: 1.2060 - accuracy: 0.5661 - val_loss: 1.4039 - val_accuracy: 0.5158\n",
            "Epoch 74/100\n",
            "40/40 [==============================] - 3s 77ms/step - loss: 1.1939 - accuracy: 0.5714 - val_loss: 1.4193 - val_accuracy: 0.5091\n",
            "Epoch 75/100\n",
            "40/40 [==============================] - 4s 106ms/step - loss: 1.1935 - accuracy: 0.5716 - val_loss: 1.4273 - val_accuracy: 0.5063\n",
            "Epoch 76/100\n",
            "40/40 [==============================] - 3s 75ms/step - loss: 1.1960 - accuracy: 0.5738 - val_loss: 1.4096 - val_accuracy: 0.5171\n",
            "Epoch 77/100\n",
            "40/40 [==============================] - 3s 77ms/step - loss: 1.2024 - accuracy: 0.5707 - val_loss: 1.3968 - val_accuracy: 0.5160\n",
            "Epoch 78/100\n",
            "40/40 [==============================] - 3s 77ms/step - loss: 1.1817 - accuracy: 0.5785 - val_loss: 1.3991 - val_accuracy: 0.5167\n",
            "Epoch 79/100\n",
            "40/40 [==============================] - 4s 109ms/step - loss: 1.1908 - accuracy: 0.5727 - val_loss: 1.3978 - val_accuracy: 0.5171\n",
            "Epoch 80/100\n",
            "40/40 [==============================] - 3s 79ms/step - loss: 1.1834 - accuracy: 0.5746 - val_loss: 1.4094 - val_accuracy: 0.5080\n",
            "Epoch 81/100\n",
            "40/40 [==============================] - 3s 79ms/step - loss: 1.1832 - accuracy: 0.5743 - val_loss: 1.4114 - val_accuracy: 0.5137\n",
            "Epoch 82/100\n",
            "40/40 [==============================] - 3s 78ms/step - loss: 1.1887 - accuracy: 0.5745 - val_loss: 1.4157 - val_accuracy: 0.5120\n",
            "Epoch 83/100\n",
            "40/40 [==============================] - 4s 105ms/step - loss: 1.1915 - accuracy: 0.5737 - val_loss: 1.4014 - val_accuracy: 0.5151\n",
            "Epoch 84/100\n",
            "40/40 [==============================] - 3s 75ms/step - loss: 1.1943 - accuracy: 0.5725 - val_loss: 1.4105 - val_accuracy: 0.5159\n",
            "Epoch 85/100\n",
            "40/40 [==============================] - 3s 77ms/step - loss: 1.1850 - accuracy: 0.5730 - val_loss: 1.4117 - val_accuracy: 0.5119\n",
            "Epoch 86/100\n",
            "40/40 [==============================] - 4s 90ms/step - loss: 1.1866 - accuracy: 0.5753 - val_loss: 1.4195 - val_accuracy: 0.5130\n",
            "Epoch 87/100\n",
            "40/40 [==============================] - 4s 95ms/step - loss: 1.1861 - accuracy: 0.5755 - val_loss: 1.3974 - val_accuracy: 0.5175\n",
            "Epoch 88/100\n",
            "40/40 [==============================] - 3s 75ms/step - loss: 1.1859 - accuracy: 0.5760 - val_loss: 1.4072 - val_accuracy: 0.5131\n",
            "Epoch 89/100\n",
            "40/40 [==============================] - 3s 75ms/step - loss: 1.1791 - accuracy: 0.5778 - val_loss: 1.4086 - val_accuracy: 0.5186\n",
            "Epoch 90/100\n",
            "40/40 [==============================] - 5s 116ms/step - loss: 1.1718 - accuracy: 0.5801 - val_loss: 1.4085 - val_accuracy: 0.5131\n",
            "Epoch 91/100\n",
            "40/40 [==============================] - 3s 78ms/step - loss: 1.1771 - accuracy: 0.5765 - val_loss: 1.4046 - val_accuracy: 0.5184\n",
            "Epoch 92/100\n",
            "40/40 [==============================] - 3s 74ms/step - loss: 1.1769 - accuracy: 0.5785 - val_loss: 1.4499 - val_accuracy: 0.5016\n",
            "Epoch 93/100\n",
            "40/40 [==============================] - 3s 76ms/step - loss: 1.1979 - accuracy: 0.5690 - val_loss: 1.4310 - val_accuracy: 0.5072\n",
            "Epoch 94/100\n",
            "40/40 [==============================] - 4s 113ms/step - loss: 1.1840 - accuracy: 0.5761 - val_loss: 1.4121 - val_accuracy: 0.5102\n",
            "Epoch 95/100\n",
            "40/40 [==============================] - 3s 74ms/step - loss: 1.1808 - accuracy: 0.5763 - val_loss: 1.4093 - val_accuracy: 0.5172\n",
            "Epoch 96/100\n",
            "40/40 [==============================] - 3s 75ms/step - loss: 1.1765 - accuracy: 0.5775 - val_loss: 1.4030 - val_accuracy: 0.5178\n",
            "Epoch 97/100\n",
            "40/40 [==============================] - 3s 75ms/step - loss: 1.1756 - accuracy: 0.5785 - val_loss: 1.4107 - val_accuracy: 0.5116\n",
            "Epoch 98/100\n",
            "40/40 [==============================] - 4s 108ms/step - loss: 1.1747 - accuracy: 0.5799 - val_loss: 1.4264 - val_accuracy: 0.5129\n",
            "Epoch 99/100\n",
            "40/40 [==============================] - 3s 77ms/step - loss: 1.1767 - accuracy: 0.5756 - val_loss: 1.4368 - val_accuracy: 0.5024\n",
            "Epoch 100/100\n",
            "40/40 [==============================] - 3s 75ms/step - loss: 1.1784 - accuracy: 0.5783 - val_loss: 1.4077 - val_accuracy: 0.5155\n",
            "CPU times: user 8min 27s, sys: 11.1 s, total: 8min 38s\n",
            "Wall time: 6min 29s\n"
          ]
        },
        {
          "output_type": "execute_result",
          "data": {
            "text/plain": [
              "<keras.src.callbacks.History at 0x796aa4aedd50>"
            ]
          },
          "metadata": {},
          "execution_count": 52
        }
      ]
    },
    {
      "cell_type": "code",
      "source": [
        "#MODEL 3 XL\n",
        "\n",
        "%%time\n",
        "nr_epochs = 100\n",
        "model_3.fit(x_train, y_train, batch_size=samples_per_batch,\n",
        "            epochs=nr_epochs,\n",
        "            validation_data=(x_val, y_val))"
      ],
      "metadata": {
        "id": "yR33TaZ6hxfa"
      },
      "execution_count": 1,
      "outputs": []
    },
    {
      "cell_type": "markdown",
      "source": [
        "# Predictions on Individual Images"
      ],
      "metadata": {
        "id": "NzbdOt90xYzD"
      }
    },
    {
      "cell_type": "code",
      "source": [
        "x_val[0].shape"
      ],
      "metadata": {
        "colab": {
          "base_uri": "https://localhost:8080/"
        },
        "id": "X29zfWLVAIKM",
        "outputId": "590df343-0a39-4b25-b2e2-26d3ce6495a4"
      },
      "execution_count": null,
      "outputs": [
        {
          "output_type": "execute_result",
          "data": {
            "text/plain": [
              "(3072,)"
            ]
          },
          "metadata": {},
          "execution_count": 53
        }
      ]
    },
    {
      "cell_type": "code",
      "source": [
        "#Tu trzeba zmienić shape, bo przeważnie predict oczekuje wielu wartości\n",
        "\n",
        "test = np.expand_dims(x_val[0], axis=0)\n",
        "test.shape"
      ],
      "metadata": {
        "colab": {
          "base_uri": "https://localhost:8080/"
        },
        "id": "pBJMPvkUeasW",
        "outputId": "598754ad-aff4-456c-8e2f-41e5e5274bb0"
      },
      "execution_count": null,
      "outputs": [
        {
          "output_type": "execute_result",
          "data": {
            "text/plain": [
              "(1, 3072)"
            ]
          },
          "metadata": {},
          "execution_count": 54
        }
      ]
    },
    {
      "cell_type": "code",
      "source": [
        "np.set_printoptions(precision=3)"
      ],
      "metadata": {
        "id": "VbNUE9CxzpKc"
      },
      "execution_count": null,
      "outputs": []
    },
    {
      "cell_type": "code",
      "source": [
        "model_2.predict(test)"
      ],
      "metadata": {
        "colab": {
          "base_uri": "https://localhost:8080/"
        },
        "id": "5tQVkv4hy41a",
        "outputId": "ef9f0201-3926-42b8-c967-6e3a394c37d6"
      },
      "execution_count": null,
      "outputs": [
        {
          "output_type": "stream",
          "name": "stdout",
          "text": [
            "1/1 [==============================] - 0s 20ms/step\n"
          ]
        },
        {
          "output_type": "execute_result",
          "data": {
            "text/plain": [
              "array([[3.507e-02, 7.101e-03, 1.761e-01, 2.068e-01, 5.753e-02, 7.336e-02,\n",
              "        3.445e-01, 9.602e-02, 1.139e-04, 3.403e-03]], dtype=float32)"
            ]
          },
          "metadata": {},
          "execution_count": 56
        }
      ]
    },
    {
      "cell_type": "code",
      "source": [
        "prediction = model_2.predict(test)\n",
        "predicted_class = np.argmax(prediction)\n"
      ],
      "metadata": {
        "colab": {
          "base_uri": "https://localhost:8080/"
        },
        "id": "B8McN2KxzUkR",
        "outputId": "6beb362d-7740-4661-b791-c16f2e193a5c"
      },
      "execution_count": null,
      "outputs": [
        {
          "output_type": "stream",
          "name": "stdout",
          "text": [
            "1/1 [==============================] - 0s 20ms/step\n"
          ]
        }
      ]
    },
    {
      "cell_type": "code",
      "source": [
        "nr_of_values = 10\n",
        "\n",
        "for i in range(nr_of_values):\n",
        "  obj = np.expand_dims(x_val[i], axis=0)\n",
        "  prediction = model_2.predict(obj)\n",
        "  predicted_class = np.argmax(prediction)\n",
        "  print(f\"Predicted Value({i}):\", predicted_class)\n",
        "  print(f\"Actual Value({i}):\", y_val[i])"
      ],
      "metadata": {
        "colab": {
          "base_uri": "https://localhost:8080/"
        },
        "id": "lF2yiDsV0CyQ",
        "outputId": "eb8f305c-a7ca-4d97-8135-ce91f292ace6"
      },
      "execution_count": null,
      "outputs": [
        {
          "output_type": "stream",
          "name": "stdout",
          "text": [
            "1/1 [==============================] - 0s 27ms/step\n",
            "Predicted Value(0): 6\n",
            "Actual Value(0): [6]\n",
            "1/1 [==============================] - 0s 21ms/step\n",
            "Predicted Value(1): 1\n",
            "Actual Value(1): [9]\n",
            "1/1 [==============================] - 0s 22ms/step\n",
            "Predicted Value(2): 9\n",
            "Actual Value(2): [9]\n",
            "1/1 [==============================] - 0s 22ms/step\n",
            "Predicted Value(3): 6\n",
            "Actual Value(3): [4]\n",
            "1/1 [==============================] - 0s 24ms/step\n",
            "Predicted Value(4): 1\n",
            "Actual Value(4): [1]\n",
            "1/1 [==============================] - 0s 22ms/step\n",
            "Predicted Value(5): 7\n",
            "Actual Value(5): [1]\n",
            "1/1 [==============================] - 0s 20ms/step\n",
            "Predicted Value(6): 6\n",
            "Actual Value(6): [2]\n",
            "1/1 [==============================] - 0s 30ms/step\n",
            "Predicted Value(7): 7\n",
            "Actual Value(7): [7]\n",
            "1/1 [==============================] - 0s 25ms/step\n",
            "Predicted Value(8): 0\n",
            "Actual Value(8): [8]\n",
            "1/1 [==============================] - 0s 25ms/step\n",
            "Predicted Value(9): 9\n",
            "Actual Value(9): [3]\n"
          ]
        }
      ]
    },
    {
      "cell_type": "markdown",
      "source": [
        "# Evaluation"
      ],
      "metadata": {
        "id": "c4m1J9ES7_tr"
      }
    },
    {
      "cell_type": "code",
      "source": [
        "model_2.metrics_names"
      ],
      "metadata": {
        "colab": {
          "base_uri": "https://localhost:8080/"
        },
        "id": "pYiorNzQ5xi5",
        "outputId": "3d4caf9e-8a47-4092-ad29-c37287de7d86"
      },
      "execution_count": null,
      "outputs": [
        {
          "output_type": "execute_result",
          "data": {
            "text/plain": [
              "['loss', 'accuracy']"
            ]
          },
          "metadata": {},
          "execution_count": 59
        }
      ]
    },
    {
      "cell_type": "code",
      "source": [
        "test_loss, test_accuracy = model_2.evaluate(x_test, y_test)\n",
        "print(f'Test loss is {test_loss:0.3} and tst accuracy is {test_accuracy:0.1%}')"
      ],
      "metadata": {
        "colab": {
          "base_uri": "https://localhost:8080/"
        },
        "id": "K379fiMDBDyS",
        "outputId": "e7280487-eecb-4ef9-bdc6-024bb5978bc6"
      },
      "execution_count": null,
      "outputs": [
        {
          "output_type": "stream",
          "name": "stdout",
          "text": [
            "313/313 [==============================] - 1s 3ms/step - loss: 1.4114 - accuracy: 0.5109\n",
            "Test loss is 1.41 and tst accuracy is 51.1%\n"
          ]
        }
      ]
    },
    {
      "cell_type": "markdown",
      "source": [
        "### Confusion Matrix"
      ],
      "metadata": {
        "id": "-lijMJ13Dlxz"
      }
    },
    {
      "cell_type": "code",
      "source": [
        "predictions = model_2.predict(x_test)\n",
        "predicted_classes = np.argmax(predictions, axis=1)\n",
        "conf_matrix = confusion_matrix(y_true=y_test, y_pred=predicted_classes)"
      ],
      "metadata": {
        "colab": {
          "base_uri": "https://localhost:8080/"
        },
        "id": "KG3mrNqNCtme",
        "outputId": "10570c8d-52c2-486b-ac57-7297074c6f37"
      },
      "execution_count": null,
      "outputs": [
        {
          "output_type": "stream",
          "name": "stdout",
          "text": [
            "313/313 [==============================] - 1s 2ms/step\n"
          ]
        }
      ]
    },
    {
      "cell_type": "code",
      "source": [
        "conf_matrix.shape"
      ],
      "metadata": {
        "colab": {
          "base_uri": "https://localhost:8080/"
        },
        "id": "J8YuiQIVEJ6k",
        "outputId": "fa0c2286-ad95-4d85-e76b-002adeaa78a1"
      },
      "execution_count": null,
      "outputs": [
        {
          "output_type": "execute_result",
          "data": {
            "text/plain": [
              "(10, 10)"
            ]
          },
          "metadata": {},
          "execution_count": 62
        }
      ]
    },
    {
      "cell_type": "code",
      "source": [
        "nr_rows = conf_matrix.shape[0]\n",
        "nr_cols = conf_matrix.shape[1]"
      ],
      "metadata": {
        "id": "7BKS2xn2FbCL"
      },
      "execution_count": null,
      "outputs": []
    },
    {
      "cell_type": "code",
      "source": [
        "conf_matrix.max()"
      ],
      "metadata": {
        "colab": {
          "base_uri": "https://localhost:8080/"
        },
        "id": "uFs8mBBpFmzr",
        "outputId": "eb3c8e3a-09ae-491e-a74b-493e987e52e4"
      },
      "execution_count": null,
      "outputs": [
        {
          "output_type": "execute_result",
          "data": {
            "text/plain": [
              "653"
            ]
          },
          "metadata": {},
          "execution_count": 64
        }
      ]
    },
    {
      "cell_type": "code",
      "source": [
        "conf_matrix.min()"
      ],
      "metadata": {
        "colab": {
          "base_uri": "https://localhost:8080/"
        },
        "id": "ZlOH0yCCFo5D",
        "outputId": "971ce228-d42d-49bc-da8f-bb3ce83d77f0"
      },
      "execution_count": null,
      "outputs": [
        {
          "output_type": "execute_result",
          "data": {
            "text/plain": [
              "3"
            ]
          },
          "metadata": {},
          "execution_count": 65
        }
      ]
    },
    {
      "cell_type": "code",
      "source": [
        "plt.figure(figsize=(7,7), dpi=150)\n",
        "plt.imshow(conf_matrix, cmap=plt.cm.Greens)\n",
        "\n",
        "plt.title(\"Confusion Matrix\", fontsize=16)\n",
        "plt.ylabel(\"Actual Labels\", fontsize=12)\n",
        "plt.xlabel(\"Predicted Labels\", fontsize=12)\n",
        "\n",
        "tick_marks = np.arange(NR_CLASSES)\n",
        "plt.yticks(tick_marks, LABEL_NAMES)\n",
        "plt.xticks(tick_marks, LABEL_NAMES)\n",
        "\n",
        "plt.colorbar()\n",
        "\n",
        "for i, j in itertools.product(range(nr_rows), range(nr_cols)):\n",
        "  plt.text(j, i, conf_matrix[i][j], horizontalalignment='center'\n",
        "  ,color='white' if conf_matrix[i][j] > conf_matrix.max() / 2 else 'black')\n",
        "\n",
        "plt.show()"
      ],
      "metadata": {
        "colab": {
          "base_uri": "https://localhost:8080/",
          "height": 855
        },
        "id": "2dffuo3IFqrj",
        "outputId": "adf80a6c-7b62-4583-b624-d5847ced6bee"
      },
      "execution_count": null,
      "outputs": [
        {
          "output_type": "display_data",
          "data": {
            "text/plain": [
              "<Figure size 1050x1050 with 2 Axes>"
            ],
            "image/png": "[encoded data removed]"
          },
          "metadata": {}
        }
      ]
    },
    {
      "cell_type": "code",
      "source": [
        "# True Positives\n",
        "np.diag(conf_matrix)\n"
      ],
      "metadata": {
        "colab": {
          "base_uri": "https://localhost:8080/"
        },
        "id": "C4HVUywtFzYK",
        "outputId": "e0b80657-2d1c-4764-86d9-9f197ac0d53a"
      },
      "execution_count": null,
      "outputs": [
        {
          "output_type": "execute_result",
          "data": {
            "text/plain": [
              "array([609, 635, 368, 302, 455, 419, 623, 589, 653, 456])"
            ]
          },
          "metadata": {},
          "execution_count": 67
        }
      ]
    },
    {
      "cell_type": "code",
      "source": [
        "recall = np.diag(conf_matrix) / np.sum(conf_matrix, axis=1)\n",
        "recall"
      ],
      "metadata": {
        "colab": {
          "base_uri": "https://localhost:8080/"
        },
        "id": "DBrHnQWvd1xw",
        "outputId": "5f329f03-9274-4c8c-8bc6-4e65ab8a35ab"
      },
      "execution_count": null,
      "outputs": [
        {
          "output_type": "execute_result",
          "data": {
            "text/plain": [
              "array([0.609, 0.635, 0.368, 0.302, 0.455, 0.419, 0.623, 0.589, 0.653,\n",
              "       0.456])"
            ]
          },
          "metadata": {},
          "execution_count": 68
        }
      ]
    },
    {
      "cell_type": "code",
      "source": [
        "precision = np.diag(conf_matrix) / np.sum(conf_matrix, axis=0)\n",
        "precision"
      ],
      "metadata": {
        "colab": {
          "base_uri": "https://localhost:8080/"
        },
        "id": "rgFsKQbLd_2d",
        "outputId": "66ab6efa-fb70-43d9-8537-d45d3b6a13b5"
      },
      "execution_count": null,
      "outputs": [
        {
          "output_type": "execute_result",
          "data": {
            "text/plain": [
              "array([0.549, 0.602, 0.413, 0.375, 0.443, 0.426, 0.514, 0.54 , 0.595,\n",
              "       0.626])"
            ]
          },
          "metadata": {},
          "execution_count": 69
        }
      ]
    },
    {
      "cell_type": "code",
      "source": [
        "avg_recall = np.mean(recall)\n",
        "print(f'Model 2 recall score is {avg_recall:.2%}')"
      ],
      "metadata": {
        "colab": {
          "base_uri": "https://localhost:8080/"
        },
        "id": "-AVbeqC3eKJr",
        "outputId": "6da3e335-3140-4f43-e337-02232350e12a"
      },
      "execution_count": null,
      "outputs": [
        {
          "output_type": "stream",
          "name": "stdout",
          "text": [
            "Model 2 recall score is 51.09%\n"
          ]
        }
      ]
    },
    {
      "cell_type": "code",
      "source": [
        "avg_precission = np.mean(precision)\n",
        "print(f'Model 2 recall score is {avg_precission:.2%}')"
      ],
      "metadata": {
        "colab": {
          "base_uri": "https://localhost:8080/"
        },
        "id": "VSxXeV4ueqly",
        "outputId": "38419592-06fd-41ed-f9cc-4953a89de2b1"
      },
      "execution_count": null,
      "outputs": [
        {
          "output_type": "stream",
          "name": "stdout",
          "text": [
            "Model 2 recall score is 50.83%\n"
          ]
        }
      ]
    },
    {
      "cell_type": "code",
      "source": [
        "F_Score = 2 * avg_precission * avg_recall / (avg_precission + avg_recall)\n",
        "print(f'F score is {F_Score:.2%}')"
      ],
      "metadata": {
        "colab": {
          "base_uri": "https://localhost:8080/"
        },
        "id": "xvT43VIFew7D",
        "outputId": "f5dfd3f1-ad8e-41ab-ebb7-bce002ed444f"
      },
      "execution_count": null,
      "outputs": [
        {
          "output_type": "stream",
          "name": "stdout",
          "text": [
            "F score is 50.96%\n"
          ]
        }
      ]
    },
    {
      "cell_type": "code",
      "source": [],
      "metadata": {
        "id": "yt3Sc_GTfGPR"
      },
      "execution_count": null,
      "outputs": []
    }
  ]
}